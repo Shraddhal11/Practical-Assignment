{
 "cells": [
  {
   "cell_type": "markdown",
   "id": "d551940f",
   "metadata": {},
   "source": [
    "# Create a Pivot table with multiple indexes from a given excel sheet (Sales.xlsx). You can also use the Groupby method whenever required"
   ]
  },
  {
   "cell_type": "code",
   "execution_count": 1,
   "id": "31d04010",
   "metadata": {},
   "outputs": [],
   "source": [
    "import pandas as pd\n",
    "import numpy as np"
   ]
  },
  {
   "cell_type": "markdown",
   "id": "e0379260",
   "metadata": {},
   "source": [
    "# A. Find the total sale amount region wise, manager wise, sales man wise. "
   ]
  },
  {
   "cell_type": "code",
   "execution_count": 2,
   "id": "e02f13ff",
   "metadata": {},
   "outputs": [
    {
     "name": "stdout",
     "output_type": "stream",
     "text": [
      "                               Sale_amt\n",
      "Region  Manager SalesMan               \n",
      "Central Douglas John       41338.666667\n",
      "        Hermann Luis       41274.600000\n",
      "                Shelli      8424.500000\n",
      "                Sigal      41679.166667\n",
      "        Martha  Steven     49922.500000\n",
      "        Timothy David      28191.000000\n",
      "East    Douglas Karen      16068.000000\n",
      "        Martha  Alexander  29587.875000\n",
      "                Diana      18050.000000\n",
      "West    Douglas Michael    33418.000000\n",
      "        Timothy Stephen    22015.750000\n"
     ]
    }
   ],
   "source": [
    "df = pd.read_excel(\"SaleData.xlsx\")\n",
    "table = pd.pivot_table(df,index=[\"Region\",\"Manager\",\"SalesMan\"], values=\"Sale_amt\")\n",
    "print(table)"
   ]
  },
  {
   "cell_type": "markdown",
   "id": "04f20076",
   "metadata": {},
   "source": [
    "# B. Find the item wise unit sold and the region wise total sale. "
   ]
  },
  {
   "cell_type": "code",
   "execution_count": 5,
   "id": "151eb6b9",
   "metadata": {},
   "outputs": [
    {
     "name": "stdout",
     "output_type": "stream",
     "text": [
      "                      Units\n",
      "Region  Item               \n",
      "Central Cell Phone     27.0\n",
      "        Desk            7.0\n",
      "        Home Theater  424.0\n",
      "        Television    498.0\n",
      "        Video Games   243.0\n",
      "East    Cell Phone    175.0\n",
      "        Home Theater  234.0\n",
      "        Television    130.0\n",
      "        Video Games   152.0\n",
      "West    Cell Phone     76.0\n",
      "        Desk            3.0\n",
      "        Home Theater   64.0\n",
      "        Television     88.0\n"
     ]
    }
   ],
   "source": [
    "print(pd.pivot_table(df,index=[\"Region\",\"Item\"],values=\"Units\",aggfunc=np.sum))"
   ]
  },
  {
   "cell_type": "markdown",
   "id": "6e1ea218",
   "metadata": {},
   "source": [
    "# C. Count the manager wise sale and mean value of sale amount and also display the sum of all sale amount at the bottom"
   ]
  },
  {
   "cell_type": "code",
   "execution_count": 6,
   "id": "3710ac70",
   "metadata": {},
   "outputs": [
    {
     "name": "stdout",
     "output_type": "stream",
     "text": [
      "                         sum      \n",
      "                    Sale_amt Units\n",
      "Manager SalesMan                  \n",
      "Douglas John        124016.0   156\n",
      "        Karen        48204.0   170\n",
      "        Michael      66836.0    89\n",
      "Hermann Luis        206373.0   281\n",
      "        Shelli       33698.0   193\n",
      "        Sigal       125037.5   173\n",
      "Martha  Alexander   236703.0   396\n",
      "        Diana        36100.0   125\n",
      "        Steven      199690.0   183\n",
      "Timothy David       140955.0   213\n",
      "        Stephen      88063.0   142\n",
      "All                1305675.5  2121\n"
     ]
    }
   ],
   "source": [
    "table= pd.pivot_table(df,index=[\"Manager\",\"SalesMan\"],values=[\"Units\",\"Sale_amt\"],aggfunc=[np.sum],fill_value=0,margins=True)\n",
    "print(table)"
   ]
  },
  {
   "cell_type": "markdown",
   "id": "bbd0bc3a",
   "metadata": {},
   "source": [
    "# D. Find the total sale amount region wise, manager wise, sales man wise where Manager = \"Timothy\""
   ]
  },
  {
   "cell_type": "code",
   "execution_count": 7,
   "id": "63931638",
   "metadata": {},
   "outputs": [
    {
     "name": "stdout",
     "output_type": "stream",
     "text": [
      "                          Sale_amt\n",
      "Region  Manager SalesMan          \n",
      "Central Timothy David     28191.00\n",
      "West    Timothy Stephen   22015.75\n"
     ]
    }
   ],
   "source": [
    "table = pd.pivot_table(df,index=[\"Region\",\"Manager\",\"SalesMan\"], values=\"Sale_amt\")\n",
    "print(table.query('Manager == [\"Timothy\"]'))"
   ]
  }
 ],
 "metadata": {
  "kernelspec": {
   "display_name": "Python 3 (ipykernel)",
   "language": "python",
   "name": "python3"
  },
  "language_info": {
   "codemirror_mode": {
    "name": "ipython",
    "version": 3
   },
   "file_extension": ".py",
   "mimetype": "text/x-python",
   "name": "python",
   "nbconvert_exporter": "python",
   "pygments_lexer": "ipython3",
   "version": "3.10.1"
  }
 },
 "nbformat": 4,
 "nbformat_minor": 5
}
