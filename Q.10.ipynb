{
 "cells": [
  {
   "cell_type": "markdown",
   "id": "9cca736f",
   "metadata": {},
   "source": [
    "# a) Write a Python program that prints all the numbers from 10 to 16 except 13 and 16."
   ]
  },
  {
   "cell_type": "code",
   "execution_count": 1,
   "id": "c114389e",
   "metadata": {},
   "outputs": [
    {
     "name": "stdout",
     "output_type": "stream",
     "text": [
      "10\n",
      "11\n",
      "12\n",
      "14\n",
      "15\n"
     ]
    }
   ],
   "source": [
    "for num in range(10,16):\n",
    "    if(num==13):\n",
    "        continue;\n",
    "    else:\n",
    "        print(num)"
   ]
  },
  {
   "cell_type": "markdown",
   "id": "20e6b067",
   "metadata": {},
   "source": [
    "# b)  Write a Python function to calculate the factorial of a number (a non-negative integer). The function accepts the number as an argument "
   ]
  },
  {
   "cell_type": "code",
   "execution_count": 4,
   "id": "1e340c23",
   "metadata": {},
   "outputs": [
    {
     "name": "stdout",
     "output_type": "stream",
     "text": [
      "Factorial of 5 is 120\n"
     ]
    }
   ],
   "source": [
    "def factorial(n):\n",
    "    if n==1:\n",
    "        return 1\n",
    "    else:\n",
    "        return(n * factorial(n-1))\n",
    "num = 5;\n",
    "print(\"Factorial of\",num,\"is\", factorial(num))"
   ]
  },
  {
   "cell_type": "markdown",
   "id": "6e87cdb5",
   "metadata": {},
   "source": [
    "# c) Write a Python program to split the text sentence or paragraph into a list of words. After that remove the stop words, remove the punctuations."
   ]
  },
  {
   "cell_type": "code",
   "execution_count": 6,
   "id": "6127e066",
   "metadata": {},
   "outputs": [
    {
     "name": "stdout",
     "output_type": "stream",
     "text": [
      "['@Geeksforgeeks', 'is', 'a', 'portal', 'for', 'geeks', '!!']\n"
     ]
    }
   ],
   "source": [
    "def convert(lst):\n",
    "    return([i for item in lst for i in item.split()])\n",
    "\n",
    "lst= ['@Geeksforgeeks is a portal for geeks !!']\n",
    "print(convert(lst))"
   ]
  },
  {
   "cell_type": "code",
   "execution_count": 7,
   "id": "74049791",
   "metadata": {},
   "outputs": [
    {
     "name": "stdout",
     "output_type": "stream",
     "text": [
      "['', 'Geeksforgeeks', 'is', 'a', 'portal', 'for', 'geeks', '']\n"
     ]
    }
   ],
   "source": [
    "import string\n",
    "words = ['@', 'Geeksforgeeks', 'is', 'a', 'portal', 'for', 'geeks', '!!']\n",
    "new_words =[]\n",
    "for word in words:\n",
    "    for letter in word:\n",
    "        if letter in string.punctuation:\n",
    "            word = word.replace(letter,\"\")\n",
    "    new_words.append(word)\n",
    "    \n",
    "print(new_words)"
   ]
  },
  {
   "cell_type": "code",
   "execution_count": null,
   "id": "8a17ceae",
   "metadata": {},
   "outputs": [],
   "source": []
  }
 ],
 "metadata": {
  "kernelspec": {
   "display_name": "Python 3 (ipykernel)",
   "language": "python",
   "name": "python3"
  },
  "language_info": {
   "codemirror_mode": {
    "name": "ipython",
    "version": 3
   },
   "file_extension": ".py",
   "mimetype": "text/x-python",
   "name": "python",
   "nbconvert_exporter": "python",
   "pygments_lexer": "ipython3",
   "version": "3.10.1"
  }
 },
 "nbformat": 4,
 "nbformat_minor": 5
}
